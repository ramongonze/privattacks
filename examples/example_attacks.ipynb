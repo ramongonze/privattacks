{
 "cells": [
  {
   "cell_type": "markdown",
   "metadata": {},
   "source": [
    "---\n",
    "## Definitions\n",
    "- Let $\\mathcal{A} = \\{a_1, \\ldots, a_k\\}$ be the set of attributes, and let $\\mathcal{D}(a_i)$ be the domain of attribute $a_i$.\n",
    "- A dataset $D = \\{r_1, \\ldots, r_n\\}$ is a set of rows where $r_i \\in a_1 \\times \\ldots \\times a_k$ is a tuple of $k$ values and represents one individual in the population.\n",
    "- Let $\\mathcal{S} \\subseteq \\mathcal{A}$ be a subset of attributes. We say that $r_i[\\mathcal{S}]$ are the attribute values of the individual $r_i$ for attributes in $\\mathcal{S}$, e.g., $r_2[\\{\\text{age}, \\text{education}\\}] = (23, Bachelor)$.\n",
    "\n",
    "Assumptions about the adversary:\n",
    "  - She knows $D$, $\\mathcal{A}$ and all $\\mathcal{D}(a_i)$.\n",
    "  - She has a single target $r_t \\in D$ (random person from the population) and knows some quasi-identifiers (QIDs) about the target, i.e., there is a subset of attributes $\\mathcal{Q} \\subseteq \\mathcal{A}$ and she knows $r_t[\\mathcal{Q}]$.\n",
    "  - For re-identification: The adversary is trying to find out which row correspond to her target.\n",
    "  - For attribute-inference: The adversary is trying to infer the value of a sensitive attribute $a_s \\in \\mathcal{A}$.\n",
    "\n",
    "---\n",
    "## Example dataset\n",
    "| age | education   | income   |\n",
    "|-----|-------------|----------|\n",
    "| 20  | Master      | low     |\n",
    "| 30  | High School | medium|\n",
    "| 30  | High School | low     |\n",
    "| 30  | PhD         | medium|\n",
    "| 30  | PhD         | medium|\n",
    "| 55  | Bachelor    | high     |\n",
    "| 55  | Bachelor    | high     |\n",
    "| 55  | Bachelor    | medium|\n",
    "\n",
    "---\n",
    "## Re-identification\n",
    "\n",
    "**Prior vulnerability:** The adversary's chance of re-identifying a random target before observing the data.\n",
    "\n",
    "Before learning the QIDs of her target the best the adversary can do is to guess one of the $n$ rows, thus her expected probability of guessing correctly the row is\n",
    "\n",
    "$\\begin{equation}\n",
    "1/n \\text{ .}\\nonumber\n",
    "\\end{equation}$\n",
    "\n",
    "In the example the prior vulnerability is $1/ 8$.\n",
    "\n",
    "**Posterior vulnerability:** The adversary's chance of re-identifying a random target after observing the data.\n",
    "\n",
    "After the adversary learned $r_t[\\mathcal{Q}]$, she will filter all records $\\{r_i~:~r_i[\\mathcal{Q}] = r_t[\\mathcal{Q}]\\}$ and from this subset the best she can do is guessing one of the rows. Her expected chance of success is\n",
    "\n",
    "$\\begin{equation}\n",
    "\\frac{1}{n} \\sum\\limits_{r_t \\in D} \\frac{1}{|~\\{r_i~:~r_i[\\mathcal{Q}] = r_t[\\mathcal{Q}]\\}~|}\\nonumber\n",
    "\\end{equation}$\n",
    "\n",
    "In the example, assume the adversary knows the age and education of her target. So the possible targets are:\n",
    "- (20, Master)\n",
    "- (30, High School)\n",
    "- (30, PhD)\n",
    "- (55, Bachelor)\n",
    "\n",
    "The posterior is then $\\Large \\frac{1 + 2\\cdot \\frac{1}{2} + 2\\cdot \\frac{1}{2} + 3\\cdot \\frac{1}{3}}{8} = \\frac{4}{8} = \\frac{1}{2}$\n",
    "\n",
    "---\n",
    "## Attribute Inference\n",
    "\n",
    "Assume the sensitive attribute is *income*.\n",
    "\n",
    "**Prior vulnerability:** The adversary's chance of guessing correctly the sensitive attribute value of a random target before observing the data.\n",
    "\n",
    "Before learning the QIDs of her target the best she can do is guessing the most frequent attribute value in the dataset, thus her expected probabilty of success is\n",
    "\n",
    "$\\begin{equation}\n",
    "\\max\\limits_{v \\in \\mathcal{D}(a_s)} \\frac{|r_i~:~r_i[a_s] = v|}{n}\\text{ .}\\nonumber\n",
    "\\end{equation}$\n",
    "\n",
    "In the example, the most frequent income is \"medium\" that appears in 4 records, so the prior vulnerability will be $4/8 = 1/2$.\n",
    "\n",
    "**Posterior vulnerability:** The adversary's chance of guessing correctly the sensitive attribute value of a random target after observing the data.\n",
    "\n",
    "After the adversary learned $r_t[\\mathcal{Q}]$, she will filter all records $\\{r_i:~r_i[\\mathcal{Q}] = r_t[\\mathcal{Q}]\\}$ and from this subset the best she can do is to guess the attribute value with the highest frequency in the subset. Her expected chance of sucess is\n",
    "\n",
    "$\\begin{equation}\n",
    "\\frac{1}{n} \\sum\\limits_{r_t \\in D} \\max\\limits_{v \\in \\mathcal{D}(a_s)} \\frac{|~\\{r_i~:~r_i[\\mathcal{Q}] = r_t[\\mathcal{Q}]\\} \\wedge r_i[a_s] = v~|}{|~\\{r_i~:~r_i[\\mathcal{Q}] = r_t[\\mathcal{Q}]\\}~|}\n",
    "\\end{equation}$\n",
    "\n",
    "In the example the posterior vulnerability will be $\\Large\\frac{1 + 2\\cdot \\frac{1}{2} + 2\\cdot 1 + 3\\cdot \\frac{2}{3}}{8} = \\frac{6}{8} = \\frac{3}{4}$.\n"
   ]
  },
  {
   "cell_type": "code",
   "execution_count": 1,
   "metadata": {},
   "outputs": [],
   "source": [
    "import pandas as pd\n",
    "import numpy as np\n",
    "import matplotlib.pyplot as plt\n",
    "import sys\n",
    "sys.path.append(\"/Users/ramongonze/projects/privattacks\")\n",
    "import privattacks"
   ]
  },
  {
   "cell_type": "code",
   "execution_count": 2,
   "metadata": {},
   "outputs": [
    {
     "data": {
      "text/html": [
       "<div>\n",
       "<style scoped>\n",
       "    .dataframe tbody tr th:only-of-type {\n",
       "        vertical-align: middle;\n",
       "    }\n",
       "\n",
       "    .dataframe tbody tr th {\n",
       "        vertical-align: top;\n",
       "    }\n",
       "\n",
       "    .dataframe thead th {\n",
       "        text-align: right;\n",
       "    }\n",
       "</style>\n",
       "<table border=\"1\" class=\"dataframe\">\n",
       "  <thead>\n",
       "    <tr style=\"text-align: right;\">\n",
       "      <th></th>\n",
       "      <th>age</th>\n",
       "      <th>education</th>\n",
       "      <th>income</th>\n",
       "    </tr>\n",
       "  </thead>\n",
       "  <tbody>\n",
       "    <tr>\n",
       "      <th>0</th>\n",
       "      <td>20</td>\n",
       "      <td>Master</td>\n",
       "      <td>low</td>\n",
       "    </tr>\n",
       "    <tr>\n",
       "      <th>1</th>\n",
       "      <td>30</td>\n",
       "      <td>High School</td>\n",
       "      <td>medium</td>\n",
       "    </tr>\n",
       "    <tr>\n",
       "      <th>2</th>\n",
       "      <td>30</td>\n",
       "      <td>High School</td>\n",
       "      <td>low</td>\n",
       "    </tr>\n",
       "    <tr>\n",
       "      <th>3</th>\n",
       "      <td>30</td>\n",
       "      <td>PhD</td>\n",
       "      <td>medium</td>\n",
       "    </tr>\n",
       "    <tr>\n",
       "      <th>4</th>\n",
       "      <td>30</td>\n",
       "      <td>PhD</td>\n",
       "      <td>medium</td>\n",
       "    </tr>\n",
       "    <tr>\n",
       "      <th>5</th>\n",
       "      <td>55</td>\n",
       "      <td>Bachelor</td>\n",
       "      <td>high</td>\n",
       "    </tr>\n",
       "    <tr>\n",
       "      <th>6</th>\n",
       "      <td>55</td>\n",
       "      <td>Bachelor</td>\n",
       "      <td>high</td>\n",
       "    </tr>\n",
       "    <tr>\n",
       "      <th>7</th>\n",
       "      <td>55</td>\n",
       "      <td>Bachelor</td>\n",
       "      <td>medium</td>\n",
       "    </tr>\n",
       "  </tbody>\n",
       "</table>\n",
       "</div>"
      ],
      "text/plain": [
       "   age    education  income\n",
       "0   20       Master     low\n",
       "1   30  High School  medium\n",
       "2   30  High School     low\n",
       "3   30          PhD  medium\n",
       "4   30          PhD  medium\n",
       "5   55     Bachelor    high\n",
       "6   55     Bachelor    high\n",
       "7   55     Bachelor  medium"
      ]
     },
     "metadata": {},
     "output_type": "display_data"
    }
   ],
   "source": [
    "df = pd.DataFrame({\n",
    "    \"age\":[20,30,30,30,30,55,55,55],\n",
    "    \"education\":[\"Master\", \"High School\", \"High School\", \"PhD\", \"PhD\", \"Bachelor\", \"Bachelor\", \"Bachelor\"],\n",
    "    \"income\":[\"low\", \"medium\", \"low\", \"medium\", \"medium\", \"high\", \"high\", \"medium\"]\n",
    "})\n",
    "display(df)"
   ]
  },
  {
   "cell_type": "code",
   "execution_count": 3,
   "metadata": {},
   "outputs": [
    {
     "name": "stdout",
     "output_type": "stream",
     "text": [
      "[Re-identification]\n",
      "\tPrior vulnerability; 0.12500\n",
      "\tPosterior vulnerability: 0.50000\n",
      "\n",
      "[Attribute inference - income]\n",
      "\tPrior vulnerability; 0.33333\n",
      "\tPosterior vulnerability: 0.75000\n"
     ]
    }
   ],
   "source": [
    "# Define quasi-identifiers and sensitive attribute\n",
    "qids = [\"age\", \"education\"]\n",
    "sensitive = \"income\"\n",
    "\n",
    "data = privattacks.data.Data(dataframe=df)\n",
    "attack = privattacks.attacks.Attack(data)\n",
    "prior_reid = attack.prior_reid()\n",
    "prior_ai = attack.prior_ai(sensitive)\n",
    "posterior_reid = attack.posterior_reid(qids)\n",
    "posterior_ai = attack.posterior_ai(qids, sensitive)\n",
    "\n",
    "print(f\"[Re-identification]\\n\\tPrior vulnerability; {prior_reid:.5f}\\n\\tPosterior vulnerability: {posterior_reid:.5f}\")\n",
    "print(f\"\\n[Attribute inference - {sensitive}]\\n\\tPrior vulnerability; {prior_ai[sensitive]:.5f}\\n\\tPosterior vulnerability: {posterior_ai[sensitive]:.5f}\")"
   ]
  },
  {
   "cell_type": "code",
   "execution_count": 4,
   "metadata": {},
   "outputs": [
    {
     "name": "stdout",
     "output_type": "stream",
     "text": [
      "[Re-identification]\n",
      "\tPosterior vulnerability: 0.50000\n",
      "\n",
      "[Attribute inference - income]\n",
      "\tPosterior vulnerability: 0.75000\n"
     ]
    }
   ],
   "source": [
    "# Using the optimized method for running both re-identification and attribute inference\n",
    "posterior_reid, posterior_ai = attack.posterior_reid_ai(qids, sensitive)\n",
    "print(f\"[Re-identification]\\n\\tPosterior vulnerability: {posterior_reid:.5f}\")\n",
    "print(f\"\\n[Attribute inference - {sensitive}]\\n\\tPosterior vulnerability: {posterior_ai[sensitive]:.5f}\")"
   ]
  },
  {
   "cell_type": "code",
   "execution_count": 5,
   "metadata": {},
   "outputs": [
    {
     "name": "stdout",
     "output_type": "stream",
     "text": [
      "[Re-identification distribution]\n"
     ]
    },
    {
     "data": {
      "text/plain": [
       "array([1.        , 0.5       , 0.5       , 0.5       , 0.5       ,\n",
       "       0.33333333, 0.33333333, 0.33333333])"
      ]
     },
     "metadata": {},
     "output_type": "display_data"
    },
    {
     "name": "stdout",
     "output_type": "stream",
     "text": [
      "[Attribute inference distribution]\n"
     ]
    },
    {
     "data": {
      "text/plain": [
       "{'income': array([1.        , 0.5       , 0.5       , 1.        , 1.        ,\n",
       "        0.66666667, 0.66666667, 0.66666667])}"
      ]
     },
     "metadata": {},
     "output_type": "display_data"
    }
   ],
   "source": [
    "# Generating histograms of individual posterior vulnerability (vulnerability of each record)\n",
    "posterior_reid, hist_reid = attack.posterior_reid(qids, distribution=True)\n",
    "print(\"[Re-identification distribution]\")\n",
    "display(hist_reid)\n",
    "\n",
    "posterior_reid, hist_ai = attack.posterior_ai(qids, sensitive, distribution=True)\n",
    "print(\"[Attribute inference distribution]\")\n",
    "display(hist_ai)"
   ]
  },
  {
   "cell_type": "code",
   "execution_count": 6,
   "metadata": {},
   "outputs": [
    {
     "name": "stdout",
     "output_type": "stream",
     "text": [
      "[Re-identification histogram]\n"
     ]
    },
    {
     "data": {
      "text/plain": [
       "array([1.        , 0.5       , 0.5       , 0.5       , 0.5       ,\n",
       "       0.33333333, 0.33333333, 0.33333333])"
      ]
     },
     "metadata": {},
     "output_type": "display_data"
    },
    {
     "name": "stdout",
     "output_type": "stream",
     "text": [
      "[Attribute inference histogram]\n"
     ]
    },
    {
     "data": {
      "text/plain": [
       "array({'income': [np.float64(1.0), np.float64(0.5), np.float64(0.5), np.float64(1.0), np.float64(1.0), np.float64(0.6666666666666666), np.float64(0.6666666666666666), np.float64(0.6666666666666666)]},\n",
       "      dtype=object)"
      ]
     },
     "metadata": {},
     "output_type": "display_data"
    }
   ],
   "source": [
    "# Generating histograms of individual posterior vulnerability (vulnerability of each record) in the optimized method\n",
    "(posterior_reid, hist_reid), (posteriors_ai, hist_ai) = attack.posterior_reid_ai(qids, sensitive, distribution=True)\n",
    "\n",
    "print(\"[Re-identification histogram]\")\n",
    "display(hist_reid)\n",
    "\n",
    "print(\"[Attribute inference histogram]\")\n",
    "display(hist_ai)"
   ]
  },
  {
   "cell_type": "code",
   "execution_count": 9,
   "metadata": {},
   "outputs": [
    {
     "name": "stdout",
     "output_type": "stream",
     "text": [
      "[Re-identification results]\n"
     ]
    },
    {
     "data": {
      "text/html": [
       "<div>\n",
       "<style scoped>\n",
       "    .dataframe tbody tr th:only-of-type {\n",
       "        vertical-align: middle;\n",
       "    }\n",
       "\n",
       "    .dataframe tbody tr th {\n",
       "        vertical-align: top;\n",
       "    }\n",
       "\n",
       "    .dataframe thead th {\n",
       "        text-align: right;\n",
       "    }\n",
       "</style>\n",
       "<table border=\"1\" class=\"dataframe\">\n",
       "  <thead>\n",
       "    <tr style=\"text-align: right;\">\n",
       "      <th></th>\n",
       "      <th>n_qids</th>\n",
       "      <th>qids</th>\n",
       "      <th>posterior_reid</th>\n",
       "    </tr>\n",
       "  </thead>\n",
       "  <tbody>\n",
       "    <tr>\n",
       "      <th>0</th>\n",
       "      <td>1</td>\n",
       "      <td>education</td>\n",
       "      <td>0.50000000</td>\n",
       "    </tr>\n",
       "    <tr>\n",
       "      <th>1</th>\n",
       "      <td>1</td>\n",
       "      <td>age</td>\n",
       "      <td>0.37500000</td>\n",
       "    </tr>\n",
       "    <tr>\n",
       "      <th>2</th>\n",
       "      <td>2</td>\n",
       "      <td>age,education</td>\n",
       "      <td>0.50000000</td>\n",
       "    </tr>\n",
       "  </tbody>\n",
       "</table>\n",
       "</div>"
      ],
      "text/plain": [
       "   n_qids           qids posterior_reid\n",
       "0       1      education     0.50000000\n",
       "1       1            age     0.37500000\n",
       "2       2  age,education     0.50000000"
      ]
     },
     "metadata": {},
     "output_type": "display_data"
    },
    {
     "name": "stdout",
     "output_type": "stream",
     "text": [
      "[Attribute inferece results]\n"
     ]
    },
    {
     "data": {
      "text/html": [
       "<div>\n",
       "<style scoped>\n",
       "    .dataframe tbody tr th:only-of-type {\n",
       "        vertical-align: middle;\n",
       "    }\n",
       "\n",
       "    .dataframe tbody tr th {\n",
       "        vertical-align: top;\n",
       "    }\n",
       "\n",
       "    .dataframe thead th {\n",
       "        text-align: right;\n",
       "    }\n",
       "</style>\n",
       "<table border=\"1\" class=\"dataframe\">\n",
       "  <thead>\n",
       "    <tr style=\"text-align: right;\">\n",
       "      <th></th>\n",
       "      <th>n_qids</th>\n",
       "      <th>qids</th>\n",
       "      <th>posterior_income</th>\n",
       "      <th>posterior_income_record</th>\n",
       "    </tr>\n",
       "  </thead>\n",
       "  <tbody>\n",
       "    <tr>\n",
       "      <th>0</th>\n",
       "      <td>1</td>\n",
       "      <td>age</td>\n",
       "      <td>0.75000000</td>\n",
       "      <td>[1.00000000, 0.75000000, 0.75000000, 0.7500000...</td>\n",
       "    </tr>\n",
       "    <tr>\n",
       "      <th>1</th>\n",
       "      <td>1</td>\n",
       "      <td>education</td>\n",
       "      <td>0.75000000</td>\n",
       "      <td>[1.00000000, 0.50000000, 0.50000000, 1.0000000...</td>\n",
       "    </tr>\n",
       "    <tr>\n",
       "      <th>2</th>\n",
       "      <td>2</td>\n",
       "      <td>age,education</td>\n",
       "      <td>0.75000000</td>\n",
       "      <td>[1.00000000, 0.50000000, 0.50000000, 1.0000000...</td>\n",
       "    </tr>\n",
       "  </tbody>\n",
       "</table>\n",
       "</div>"
      ],
      "text/plain": [
       "   n_qids           qids posterior_income  \\\n",
       "0       1            age       0.75000000   \n",
       "1       1      education       0.75000000   \n",
       "2       2  age,education       0.75000000   \n",
       "\n",
       "                             posterior_income_record  \n",
       "0  [1.00000000, 0.75000000, 0.75000000, 0.7500000...  \n",
       "1  [1.00000000, 0.50000000, 0.50000000, 1.0000000...  \n",
       "2  [1.00000000, 0.50000000, 0.50000000, 1.0000000...  "
      ]
     },
     "metadata": {},
     "output_type": "display_data"
    }
   ],
   "source": [
    "# Run re-identification and attribute inference attacks for all combination of quasi-identifiers\n",
    "results_reid = attack.posterior_reid_subset(\n",
    "    qids=qids,\n",
    "    num_min=1,\n",
    "    num_max=len(qids),\n",
    "    n_processes=2\n",
    ")\n",
    "print(\"[Re-identification results]\")\n",
    "display(results_reid)\n",
    "\n",
    "\n",
    "results_ai = attack.posterior_ai_subset(\n",
    "    qids=qids,\n",
    "    sensitive=sensitive,\n",
    "    num_min=1,\n",
    "    num_max=len(qids),\n",
    "    distribution=True,\n",
    "    n_processes=2\n",
    ")\n",
    "print(\"[Attribute inferece results]\")\n",
    "display(results_ai)"
   ]
  },
  {
   "cell_type": "code",
   "execution_count": 8,
   "metadata": {},
   "outputs": [
    {
     "name": "stdout",
     "output_type": "stream",
     "text": [
      "[Re-identification and attribute inference results]\n"
     ]
    },
    {
     "data": {
      "text/html": [
       "<div>\n",
       "<style scoped>\n",
       "    .dataframe tbody tr th:only-of-type {\n",
       "        vertical-align: middle;\n",
       "    }\n",
       "\n",
       "    .dataframe tbody tr th {\n",
       "        vertical-align: top;\n",
       "    }\n",
       "\n",
       "    .dataframe thead th {\n",
       "        text-align: right;\n",
       "    }\n",
       "</style>\n",
       "<table border=\"1\" class=\"dataframe\">\n",
       "  <thead>\n",
       "    <tr style=\"text-align: right;\">\n",
       "      <th></th>\n",
       "      <th>n_qids</th>\n",
       "      <th>qids</th>\n",
       "      <th>posterior_reid</th>\n",
       "      <th>posterior_income</th>\n",
       "    </tr>\n",
       "  </thead>\n",
       "  <tbody>\n",
       "    <tr>\n",
       "      <th>0</th>\n",
       "      <td>1</td>\n",
       "      <td>education</td>\n",
       "      <td>0.50000000</td>\n",
       "      <td>0.75000000</td>\n",
       "    </tr>\n",
       "    <tr>\n",
       "      <th>1</th>\n",
       "      <td>1</td>\n",
       "      <td>age</td>\n",
       "      <td>0.37500000</td>\n",
       "      <td>0.75000000</td>\n",
       "    </tr>\n",
       "    <tr>\n",
       "      <th>2</th>\n",
       "      <td>2</td>\n",
       "      <td>age,education</td>\n",
       "      <td>0.50000000</td>\n",
       "      <td>0.75000000</td>\n",
       "    </tr>\n",
       "  </tbody>\n",
       "</table>\n",
       "</div>"
      ],
      "text/plain": [
       "   n_qids           qids posterior_reid posterior_income\n",
       "0       1      education     0.50000000       0.75000000\n",
       "1       1            age     0.37500000       0.75000000\n",
       "2       2  age,education     0.50000000       0.75000000"
      ]
     },
     "metadata": {},
     "output_type": "display_data"
    }
   ],
   "source": [
    "# Run using the optimed method\n",
    "results = attack.posterior_reid_ai_subset(\n",
    "    qids=qids,\n",
    "    sensitive=sensitive,\n",
    "    num_min=1,\n",
    "    num_max=len(qids),\n",
    "    n_processes=2\n",
    ")\n",
    "\n",
    "print(\"[Re-identification and attribute inference results]\")\n",
    "display(results)"
   ]
  }
 ],
 "metadata": {
  "kernelspec": {
   "display_name": "base",
   "language": "python",
   "name": "python3"
  },
  "language_info": {
   "codemirror_mode": {
    "name": "ipython",
    "version": 3
   },
   "file_extension": ".py",
   "mimetype": "text/x-python",
   "name": "python",
   "nbconvert_exporter": "python",
   "pygments_lexer": "ipython3",
   "version": "3.11.9"
  }
 },
 "nbformat": 4,
 "nbformat_minor": 2
}
